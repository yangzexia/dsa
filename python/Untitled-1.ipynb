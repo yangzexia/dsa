{
 "metadata": {
  "language_info": {
   "codemirror_mode": {
    "name": "ipython",
    "version": 3
   },
   "file_extension": ".py",
   "mimetype": "text/x-python",
   "name": "python",
   "nbconvert_exporter": "python",
   "pygments_lexer": "ipython3",
   "version": "3.6.13"
  },
  "orig_nbformat": 4,
  "kernelspec": {
   "name": "python3",
   "display_name": "Python 3.6.13 64-bit ('spider': conda)"
  },
  "interpreter": {
   "hash": "af4a88f5810f140304929f769ba5184312171d1be978c1ba9e64886e5891b22d"
  }
 },
 "nbformat": 4,
 "nbformat_minor": 2,
 "cells": [
  {
   "cell_type": "code",
   "execution_count": null,
   "metadata": {},
   "outputs": [],
   "source": [
    "import pymongo\n",
    "\n",
    "cars = [ {'name': 'Audi', 'price': 52642},\n",
    "    {'name': 'Mercedes', 'price': 57127},\n",
    "    {'name': 'Skoda', 'price': 9000},\n",
    "    {'name': 'Volvo', 'price': 29000},\n",
    "    {'name': 'Bentley', 'price': 350000},\n",
    "    {'name': 'Citroen', 'price': 21000},\n",
    "    {'name': 'Hummer', 'price': 41400},\n",
    "    {'name': 'Volkswagen', 'price': 21600} ]\n",
    "\n",
    "client = pymongo.MongoClient('127.0.0.1', 27017)\n",
    "\n",
    "print(client.server_info())\n",
    "\n",
    "with client:\n",
    "\n",
    "    db = client.test\n",
    "\n",
    "    db.cars.insert_many(cars)\n"
   ]
  },
  {
   "cell_type": "code",
   "execution_count": 22,
   "metadata": {},
   "outputs": [
    {
     "output_type": "stream",
     "name": "stdout",
     "text": [
      "['weishenghuo', 'article', 'article2']\n"
     ]
    }
   ],
   "source": [
    "import pymongo\n",
    "\n",
    "client = pymongo.MongoClient('127.0.0.1', 27017)\n",
    "with client:\n",
    "\n",
    "    db = client.wx\n",
    "    print(db.list_collection_names())"
   ]
  },
  {
   "cell_type": "code",
   "execution_count": 86,
   "metadata": {},
   "outputs": [
    {
     "output_type": "stream",
     "name": "stdout",
     "text": [
      "690\n"
     ]
    }
   ],
   "source": [
    "from pymongo import MongoClient\n",
    "\n",
    "url_list = []\n",
    "conn = MongoClient(\"127.0.0.1\", 27017)\n",
    "db = conn.wx  # 连接wx数据库，没有则自动创建\n",
    "mongo_wx = db.weishenghuo  # 使用article集合，没有则自动创建\n",
    "\n",
    "with conn:\n",
    "    urls = mongo_wx.find({}, {\"content_url\": 1,})\n",
    "    urls = list(urls)\n",
    "    for url in urls:\n",
    "        url_list.append(url[\"content_url\"])\n",
    "\n",
    "print(len(url_list))"
   ]
  },
  {
   "cell_type": "code",
   "execution_count": null,
   "metadata": {},
   "outputs": [],
   "source": [
    "import requests\n",
    "import cfg\n",
    "\n",
    "params = {\n",
    "    \"__biz\": cfg.biz,\n",
    "    \"uin\": cfg.uin,\n",
    "    \"key\": cfg.key,\n",
    "    # \"offset\": offset,\n",
    "    # \"count\": count,\n",
    "    \"action\": \"getmsg\",\n",
    "    \"f\": \"json\",\n",
    "}\n",
    "\n",
    "headers = {\n",
    "    \"User-Agent\": \"Mozilla/5.0 (Windows NT 10.0; Win64; x64) AppleWebKit/537.36 (KHTML, like Gecko) Chrome/74.0.3729.131 Safari/537.36\"\n",
    "}\n",
    "\n",
    "for url in url_list:\n",
    "    res = requests.get(url,params=params, headers=headers)\n",
    "    content = res.content.decode()\n",
    "    soup = BeautifulSoup(content, \"html.parser\")\n",
    "    print(\n",
    "        list(\n",
    "            filter(lambda x: re.search(pattern, x) is not None, soup.stripped_strings,)\n",
    "        )\n",
    "    )"
   ]
  },
  {
   "cell_type": "code",
   "execution_count": 85,
   "metadata": {},
   "outputs": [
    {
     "output_type": "execute_result",
     "data": {
      "text/plain": [
       "'2018-10-10 18:00:14'"
      ]
     },
     "metadata": {},
     "execution_count": 85
    }
   ],
   "source": [
    "import time\n",
    "\n",
    "time.strftime(\"%Y-%m-%d %H:%M:%S\", time.localtime(1539165614))"
   ]
  }
 ]
}