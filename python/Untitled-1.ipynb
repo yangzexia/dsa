{
 "metadata": {
  "language_info": {
   "codemirror_mode": {
    "name": "ipython",
    "version": 3
   },
   "file_extension": ".py",
   "mimetype": "text/x-python",
   "name": "python",
   "nbconvert_exporter": "python",
   "pygments_lexer": "ipython3",
   "version": "3.6.13"
  },
  "orig_nbformat": 4,
  "kernelspec": {
   "name": "python3",
   "display_name": "Python 3.6.13 64-bit ('spider': conda)"
  },
  "interpreter": {
   "hash": "af4a88f5810f140304929f769ba5184312171d1be978c1ba9e64886e5891b22d"
  }
 },
 "nbformat": 4,
 "nbformat_minor": 2,
 "cells": [
  {
   "cell_type": "code",
   "execution_count": null,
   "metadata": {},
   "outputs": [],
   "source": [
    "import pymongo\n",
    "\n",
    "cars = [ {'name': 'Audi', 'price': 52642},\n",
    "    {'name': 'Mercedes', 'price': 57127},\n",
    "    {'name': 'Skoda', 'price': 9000},\n",
    "    {'name': 'Volvo', 'price': 29000},\n",
    "    {'name': 'Bentley', 'price': 350000},\n",
    "    {'name': 'Citroen', 'price': 21000},\n",
    "    {'name': 'Hummer', 'price': 41400},\n",
    "    {'name': 'Volkswagen', 'price': 21600} ]\n",
    "\n",
    "client = pymongo.MongoClient('127.0.0.1', 27017)\n",
    "\n",
    "print(client.server_info())\n",
    "\n",
    "with client:\n",
    "\n",
    "    db = client.test\n",
    "\n",
    "    db.cars.insert_many(cars)\n"
   ]
  },
  {
   "cell_type": "code",
   "execution_count": null,
   "metadata": {},
   "outputs": [],
   "source": [
    "with client:\n",
    "\n",
    "    db = client.wx\n",
    "    print(db.list_collection_names())"
   ]
  },
  {
   "cell_type": "code",
   "execution_count": 128,
   "metadata": {
    "tags": []
   },
   "outputs": [],
   "source": [
    "with client:\n",
    "    \n",
    "    db = client.wx\n",
    "    urls = db.article.find({}, {'content_url': 1, })\n",
    "\n",
    "    urls = list(urls)\n",
    "    url = []\n",
    "    for url_list in urls:\n",
    "        url.append(url_list['content_url'])"
   ]
  }
 ]
}